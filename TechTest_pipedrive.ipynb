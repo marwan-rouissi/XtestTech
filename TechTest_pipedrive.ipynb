{
 "cells": [
  {
   "cell_type": "markdown",
   "id": "eefe13fc-6028-4f5a-9fd2-dc5d463bb7cc",
   "metadata": {
    "jp-MarkdownHeadingCollapsed": true,
    "tags": []
   },
   "source": [
    "# Technical Test"
   ]
  },
  {
   "cell_type": "markdown",
   "id": "173b06e8-ce5a-46a0-b5ec-bf1fd9948493",
   "metadata": {
    "tags": []
   },
   "source": [
    "Summary:\n",
    "=\n",
    "\n",
    "1. [API Pipedrive](#1)\n",
    "2. [Création de la BD PostgreSQL](#2)\n",
    "3. [Connexion à la DB postgreSQL](#3)\n",
    "4. [Visualisation DATA](#4)"
   ]
  },
  {
   "cell_type": "code",
   "execution_count": 1,
   "id": "2c53672c-c6f7-481e-b3be-2fbab5d42c81",
   "metadata": {},
   "outputs": [],
   "source": [
    "import psycopg2\n",
    "import requests\n",
    "import json\n",
    "import requests\n",
    "import pandas as pd\n",
    "import matplotlib.pyplot as plt"
   ]
  },
  {
   "cell_type": "markdown",
   "id": "25dc98f0-fde5-423b-ae17-9b10798e889b",
   "metadata": {},
   "source": [
    "# 1. API Pipedrive: <a class=\"anchor\" id=\"1\"></a>"
   ]
  },
  {
   "cell_type": "markdown",
   "id": "fb3bad07-4872-44c5-997f-f4fb4665d437",
   "metadata": {},
   "source": [
    "- Connexion à l'API via token\n",
    "- Récupération des variables (colonnes)"
   ]
  },
  {
   "cell_type": "code",
   "execution_count": 2,
   "id": "fd1d7276-75b5-4942-9e29-8cfb7d62bbc4",
   "metadata": {
    "jupyter": {
     "source_hidden": true
    },
    "tags": []
   },
   "outputs": [
    {
     "name": "stdout",
     "output_type": "stream",
     "text": [
      "0 ID\n",
      "1 Nom\n",
      "2 Étiquette\n",
      "3 Téléphone\n",
      "4 E-mail\n",
      "5 Personne créée\n",
      "6 Heure de mise à jour\n",
      "7 Organisation\n",
      "8 Propriétaire\n",
      "9 Affaires en cours\n",
      "10 Visible par\n",
      "11 Date de la prochaine activité\n",
      "12 Date de la dernière activité.\n",
      "13 Affaires gagnées\n",
      "14 Affaires perdues\n",
      "15 Affaires clôturées\n",
      "16 Total des activités\n",
      "17 Activités terminées\n",
      "18 Activités à faire\n",
      "19 Nombre de messages e-mail\n",
      "20 Photo du profil\n",
      "21 Dernier e-mail reçu\n",
      "22 Dernier e-mail envoyé\n",
      "23 Prénom\n",
      "24 Nom de famille\n",
      "25 trial end date\n"
     ]
    }
   ],
   "source": [
    "# token récupéré depuis la page dédiée \"https://x20.pipedrive.com/settings/api\"\n",
    "token = {\n",
    "    'api_token': '3de2dd46cd6d38a1376e9c906647d61f4c2ac41d'\n",
    "}\n",
    "\n",
    "# L'URL de base de l'API Pipedrive\n",
    "base_url = \"https://api.pipedrive.com/v1/\"\n",
    "\n",
    "# Endpoint pour les variables de contact\n",
    "endpoint = \"personFields\"\n",
    "\n",
    "# Chemin complet \n",
    "url_personFields = base_url + endpoint\n",
    "\n",
    "# Envoie de la requête GET \n",
    "get_response = requests.get(url_personFields, params=token)\n",
    "\n",
    "# Convertir la réponse en JSON\n",
    "get_content = json.loads(get_response.content)\n",
    "\n",
    "# Itérer dans la liste de données et print les variables par leur \"name\"\n",
    "get_data = get_content['data']\n",
    "for i, v in enumerate(get_data):\n",
    "    print(i, v['name'])"
   ]
  },
  {
   "cell_type": "markdown",
   "id": "b382bc2d-e6e1-4d84-a747-07adf73ab751",
   "metadata": {},
   "source": [
    "### - lister les contacts par (id, nom, email)"
   ]
  },
  {
   "cell_type": "code",
   "execution_count": 3,
   "id": "2845eafa-33fa-4d0c-a040-cd21c727ed62",
   "metadata": {
    "tags": []
   },
   "outputs": [
    {
     "name": "stdout",
     "output_type": "stream",
     "text": [
      "id:37 | contact:[Exemple] Phyllis Yang | email:phyllis.yang@gmial.com\n",
      "id:38 | contact:[Exemple] Benjamin Leon | email:benjamin.leon@gmial.com\n",
      "id:39 | contact:[Exemple] Gloria Quinn | email:gloria.quinn@empowermmove.com\n",
      "id:40 | contact:[Exemple] Kanushi Barnes | email:kanushi.barnes@gmial.com\n",
      "id:41 | contact:[Exemple] Tony Turner | email:tony.turner@moveer.com\n",
      "id:42 | contact:[Exemple] Veronika Startland | email:veronika.startland@venuspowwer.com\n",
      "id:43 | contact:[Exemple] Otto Miller | email:otto.miller@itablee.eu\n",
      "id:44 | contact:[Exemple] Githa Watson | email:githa.watson@odamoneet.com\n",
      "id:45 | contact:[Exemple] Gianluigi Ferraro | email:gianluigi@ferraroo.it\n",
      "id:46 | contact:[Exemple] Peru Zitan | email:peru.zitan@loreannn.ee\n",
      "id:47 | contact:[Exemple] Blair Davis | email:blair.davis@gmial.com\n",
      "id:48 | contact:[Exemple] Haroon Bloggs | email:haroon.bloggs@gmial.com\n",
      "id:49 | contact:[Exemple] Hugo Hall | email:hugo.hall@gmial.com\n",
      "id:50 | contact:[Exemple] Francesca Almeiro | email:francesca@almeiroooo.es\n",
      "id:51 | contact:[Exemple] Nyssa Young | email:nyssa.young@principalspace.com\n",
      "id:52 | contact:[Exemple] Michael Pata | email:michael.pata@hotelfromhomme.uk\n",
      "id:53 | contact:[Exemple] Martin Gaio | email:martin.gaio@olaaa.es\n",
      "id:54 | contact:[Exemple] Amo Pargadella | email:amo.pargadella@pargadella-cars.it\n"
     ]
    }
   ],
   "source": [
    "# Le endpoint pour les personnes (contacts)\n",
    "endpoint = \"persons\"\n",
    "\n",
    "# Construire l'URL complète\n",
    "url_persons = base_url + endpoint\n",
    "\n",
    "# Envoyer la requête GET et obtenir la réponse\n",
    "response = requests.get(url_persons, params=token)\n",
    "\n",
    "# Vérifier le statut de la réponse\n",
    "if response.status_code == 200:\n",
    "    # Convertir la réponse en JSON\n",
    "    persons_data = response.json()\n",
    "    \n",
    "    # Parcourir la liste des personnes\n",
    "    for person in persons_data[\"data\"]:\n",
    "        # Afficher l'id, le nom de la personne ainsi que son email\n",
    "        print(f\"id:{person['id']} | contact:{person['name']} | email:{person['primary_email']}\")\n",
    "else:\n",
    "    # Afficher un message d'erreur\n",
    "    print(\"Erreur: \", response.status_code)\n",
    "    \n",
    "# print(persons_data[\"data\"][0])"
   ]
  },
  {
   "cell_type": "markdown",
   "id": "33a3af34-8141-4f82-9b15-96d8e2ff69f8",
   "metadata": {},
   "source": [
    "### - lister les deals par (id, titre, valeur, statut)"
   ]
  },
  {
   "cell_type": "code",
   "execution_count": 4,
   "id": "b6d98b91-482d-4207-8f27-271b7d1ff95c",
   "metadata": {
    "tags": []
   },
   "outputs": [
    {
     "name": "stdout",
     "output_type": "stream",
     "text": [
      "id:29 | title:[Exemple] VenusPower | value:7000 | status:lost\n",
      "id:30 | title:[Exemple] EmpowerMove | value:8000 | status:open\n",
      "id:31 | title:[Exemple] Ferraro | value:4000 | status:won\n",
      "id:32 | title:[Exemple] SoRock | value:31000 | status:open\n",
      "id:33 | title:[Exemple] Tony Turner | value:30000 | status:open\n",
      "id:34 | title:[Exemple] Damone | value:15000 | status:open\n",
      "id:35 | title:[Exemple] Lorean | value:22000 | status:won\n",
      "id:36 | title:[Exemple] Benjamin Leon | value:10000 | status:open\n",
      "id:37 | title:[Exemple] iTable | value:7000 | status:open\n",
      "id:38 | title:[Exemple] Phyllis & Cie | value:16000 | status:open\n",
      "id:39 | title:[Exemple] HotelFromHome | value:12000 | status:won\n",
      "id:40 | title:[Exemple] Pargadella Cars | value:18000 | status:lost\n",
      "id:41 | title:[Exemple] Almeiro | value:1000 | status:lost\n",
      "id:42 | title:[Exemple] Ola! | value:4000 | status:won\n"
     ]
    }
   ],
   "source": [
    "# Le endpoint pour les transactions\n",
    "endpoint = \"deals\"\n",
    "\n",
    "# Construire l'URL complète\n",
    "url_deals = base_url + endpoint\n",
    "\n",
    "# Envoyer la requête GET et obtenir la réponse\n",
    "response = requests.get(url_deals, params=token)\n",
    "\n",
    "# Vérifier le statut de la réponse\n",
    "if response.status_code == 200:\n",
    "    # Convertir la réponse en JSON\n",
    "    deals_data = response.json()\n",
    "    \n",
    "    # Parcourir la liste des transactions\n",
    "    for deal in deals_data[\"data\"]:\n",
    "        # Afficher l'id, le titre, la valeur ainsi que le statut de la transaction\n",
    "        print(f\"id:{deal['id']} | title:{deal['title']} | value:{deal['value']} | status:{deal['status']}\")\n",
    "else:\n",
    "    # Afficher un message d'erreur\n",
    "    print(\"Erreur: \", response.status_code)\n",
    "    \n",
    "# print(deals_data[\"data\"][0])"
   ]
  },
  {
   "cell_type": "markdown",
   "id": "a54b11b9-2306-4225-aa84-961697d3256b",
   "metadata": {
    "tags": []
   },
   "source": [
    "# 2. Création de la BD PostgreSQL: <a class=\"anchor\" id=\"2\"></a>"
   ]
  },
  {
   "cell_type": "markdown",
   "id": "421d8ea4-2213-4aa2-81dd-7a42a4a743ea",
   "metadata": {
    "tags": []
   },
   "source": [
    "-- Database: techtest\n",
    "\n",
    "-- DROP DATABASE IF EXISTS techtest;\n",
    "\n",
    "CREATE DATABASE techtest\n",
    "    WITH\n",
    "    OWNER = postgres\n",
    "    ENCODING = 'UTF8'\n",
    "    LC_COLLATE = 'C'\n",
    "    LC_CTYPE = 'C'\n",
    "    TABLESPACE = pg_default\n",
    "    CONNECTION LIMIT = -1\n",
    "    IS_TEMPLATE = False;\n",
    "\n",
    "COMMENT ON DATABASE techtest\n",
    "    IS 'DB for tech test';\n",
    "\n",
    "GRANT TEMPORARY, CONNECT ON DATABASE techtest TO PUBLIC;\n",
    "\n",
    "GRANT ALL ON DATABASE techtest TO postgres;"
   ]
  },
  {
   "cell_type": "markdown",
   "id": "862d12e1-8c23-4949-95fc-a13b0ec1ffd2",
   "metadata": {},
   "source": [
    "# 3. Connexion à la DB postgreSQL: <a class=\"anchor\" id=\"3\"></a>"
   ]
  },
  {
   "cell_type": "code",
   "execution_count": 5,
   "id": "64f51020-a18d-4c9a-9295-28872bf20c1c",
   "metadata": {},
   "outputs": [],
   "source": [
    "# Établir une connexion à la base de données PostgreSQL\n",
    "conn = psycopg2.connect(\n",
    "    host=\"localhost\",\n",
    "    port=\"5432\",\n",
    "    database=\"techtest\",\n",
    "    user=\"postgres\",\n",
    "    password=\"sudo\"\n",
    ")\n",
    "\n",
    "cur = conn.cursor()"
   ]
  },
  {
   "cell_type": "markdown",
   "id": "08435f0b-ea69-4f16-982c-bbb58475fbc5",
   "metadata": {},
   "source": [
    "## - Création de la table contacts"
   ]
  },
  {
   "cell_type": "code",
   "execution_count": 14,
   "id": "4e1e249d-63ce-4125-b7c5-b5fc8b23fba1",
   "metadata": {},
   "outputs": [
    {
     "name": "stdout",
     "output_type": "stream",
     "text": [
      "Erreur lors de la création du table PostgreSQL cursor already closed\n"
     ]
    }
   ],
   "source": [
    "try:\n",
    "    # Création d'une table contacts dans la DB PostgreSQL\n",
    "    sql = '''CREATE TABLE contacts(\n",
    "        ID INT PRIMARY KEY NOT NULL,\n",
    "        name VARCHAR(255),\n",
    "        email VARCHAR(255)\n",
    "      ); '''\n",
    "    cur.execute(sql)\n",
    "    conn.commit()\n",
    "    print(\"Table contacts créée avec succès dans PostgreSQL\")\n",
    "\n",
    "except (Exception, psycopg2.Error) as error :\n",
    "    print (\"Erreur lors de la création du table PostgreSQL\", error)\n",
    "\n",
    "# Fermer la connexion à la base de données\n",
    "conn.close()"
   ]
  },
  {
   "cell_type": "markdown",
   "id": "cde8803a-b5f8-4a88-bea8-9d3c337f5a25",
   "metadata": {},
   "source": [
    "## - Création de la table deals"
   ]
  },
  {
   "cell_type": "code",
   "execution_count": 7,
   "id": "c32fd959-0bf5-4eb2-b420-fd81afd80298",
   "metadata": {},
   "outputs": [
    {
     "name": "stdout",
     "output_type": "stream",
     "text": [
      "Erreur lors de la création du table PostgreSQL ERREUR:  la relation « deals » existe déjà\n",
      "\n"
     ]
    }
   ],
   "source": [
    "try:\n",
    "    # Établir une connexion à la base de données PostgreSQL\n",
    "    conn = psycopg2.connect(\n",
    "        host=\"localhost\",\n",
    "        port=\"5432\",\n",
    "        database=\"techtest\",\n",
    "        user=\"postgres\",\n",
    "        password=\"sudo\"\n",
    "    )\n",
    "    cur = conn.cursor()\n",
    "    \n",
    "    # Création d'une table deals dans la DB PostgreSQL\n",
    "    sql = '''CREATE TABLE deals(\n",
    "        ID INT PRIMARY KEY NOT NULL,\n",
    "        title VARCHAR(255),\n",
    "        value DECIMAL,\n",
    "        status VARCHAR(255)\n",
    "      ); '''\n",
    "    cur.execute(sql)\n",
    "    conn.commit()\n",
    "    print(\"Table deals créée avec succès dans PostgreSQL\")\n",
    "\n",
    "except (Exception, psycopg2.Error) as error :\n",
    "    print (\"Erreur lors de la création du table PostgreSQL\", error)\n",
    "\n",
    "# Fermer la connexion à la base de données\n",
    "conn.close()"
   ]
  },
  {
   "cell_type": "markdown",
   "id": "4b82e3a8-50c3-45b6-bfab-6c7759d749c7",
   "metadata": {},
   "source": [
    "## - Importation des contacts (id, name, email) depuis pipedrive vers postgresql"
   ]
  },
  {
   "cell_type": "code",
   "execution_count": 15,
   "id": "3e5fbbba-6114-40ff-ac8f-ebda637233df",
   "metadata": {},
   "outputs": [
    {
     "name": "stdout",
     "output_type": "stream",
     "text": [
      "Erreur lors de l'ajout des données : ERREUR:  la valeur d'une clé dupliquée rompt la contrainte unique « contacts_pkey »\n",
      "DETAIL:  La clé « (id)=(37) » existe déjà.\n",
      "\n"
     ]
    }
   ],
   "source": [
    "try:\n",
    "    # Établir une connexion à la base de données PostgreSQL\n",
    "    conn = psycopg2.connect(\n",
    "        host=\"localhost\",\n",
    "        port=\"5432\",\n",
    "        database=\"techtest\",\n",
    "        user=\"postgres\",\n",
    "        password=\"sudo\"\n",
    "    )\n",
    "    cur = conn.cursor()\n",
    "    \n",
    "    # Insérer les contacts dans la base de données PostgreSQL\n",
    "    for person in persons_data[\"data\"]:\n",
    "        # Exécuter une requête SQL pour insérer le contact dans la table appropriée\n",
    "        query = \"INSERT INTO contacts (id, name, email) VALUES (%s, %s, %s)\"\n",
    "        values = (person[\"id\"], person[\"name\"], person[\"primary_email\"])\n",
    "        cur.execute(query, values)\n",
    "        conn.commit()\n",
    "\n",
    "except (Exception, psycopg2.Error) as error:\n",
    "    print(\"Erreur lors de l'ajout des données :\", error)\n",
    "\n",
    "# Fermer la connexion à la base de données\n",
    "conn.close()"
   ]
  },
  {
   "cell_type": "markdown",
   "id": "d4bfb5e7-56b9-4e2d-8cf8-2bb1bd60dd2b",
   "metadata": {},
   "source": [
    "## - Importation des deals (id, title, value, status) depuis pipedrive vers postgresql"
   ]
  },
  {
   "cell_type": "code",
   "execution_count": 16,
   "id": "a58e6797-6d78-4015-90d7-73b22273bd57",
   "metadata": {},
   "outputs": [
    {
     "name": "stdout",
     "output_type": "stream",
     "text": [
      "Erreur lors de l'ajout des données : ERREUR:  la valeur d'une clé dupliquée rompt la contrainte unique « deals_pkey »\n",
      "DETAIL:  La clé « (id)=(29) » existe déjà.\n",
      "\n"
     ]
    }
   ],
   "source": [
    "try:\n",
    "    # Établir une connexion à la base de données PostgreSQL\n",
    "    conn = psycopg2.connect(\n",
    "        host=\"localhost\",\n",
    "        port=\"5432\",\n",
    "        database=\"techtest\",\n",
    "        user=\"postgres\",\n",
    "        password=\"sudo\"\n",
    "    )\n",
    "    cur = conn.cursor()\n",
    "\n",
    "    # Répéter les mêmes étapes pour les transactions (deals)\n",
    "    for deal in deals_data[\"data\"]:\n",
    "        # Exécuter une requête SQL pour insérer le deal dans la table appropriée\n",
    "        query = \"INSERT INTO deals (id, title, value, status) VALUES (%s, %s, %s, %s)\"\n",
    "        values = (deal[\"id\"], deal[\"title\"], deal[\"value\"], deal[\"status\"])\n",
    "        cur.execute(query, values)\n",
    "        conn.commit()\n",
    "\n",
    "except (Exception, psycopg2.Error) as error:\n",
    "    print(\"Erreur lors de l'ajout des données :\", error)"
   ]
  },
  {
   "cell_type": "markdown",
   "id": "9386b170-1835-426c-946d-1f9c25dc3bc8",
   "metadata": {},
   "source": [
    "## - Verification du contenu de la table contacts (postgresql)"
   ]
  },
  {
   "cell_type": "code",
   "execution_count": 13,
   "id": "9f3780d2-3978-4ed0-85c2-656e9cfeeb30",
   "metadata": {},
   "outputs": [
    {
     "name": "stdout",
     "output_type": "stream",
     "text": [
      "(37, '[Exemple] Phyllis Yang', 'phyllis.yang@gmial.com')\n",
      "(38, '[Exemple] Benjamin Leon', 'benjamin.leon@gmial.com')\n",
      "(39, '[Exemple] Gloria Quinn', 'gloria.quinn@empowermmove.com')\n",
      "(40, '[Exemple] Kanushi Barnes', 'kanushi.barnes@gmial.com')\n",
      "(41, '[Exemple] Tony Turner', 'tony.turner@moveer.com')\n",
      "(42, '[Exemple] Veronika Startland', 'veronika.startland@venuspowwer.com')\n",
      "(43, '[Exemple] Otto Miller', 'otto.miller@itablee.eu')\n",
      "(44, '[Exemple] Githa Watson', 'githa.watson@odamoneet.com')\n",
      "(45, '[Exemple] Gianluigi Ferraro', 'gianluigi@ferraroo.it')\n",
      "(46, '[Exemple] Peru Zitan', 'peru.zitan@loreannn.ee')\n",
      "(47, '[Exemple] Blair Davis', 'blair.davis@gmial.com')\n",
      "(48, '[Exemple] Haroon Bloggs', 'haroon.bloggs@gmial.com')\n",
      "(49, '[Exemple] Hugo Hall', 'hugo.hall@gmial.com')\n",
      "(50, '[Exemple] Francesca Almeiro', 'francesca@almeiroooo.es')\n",
      "(51, '[Exemple] Nyssa Young', 'nyssa.young@principalspace.com')\n",
      "(52, '[Exemple] Michael Pata', 'michael.pata@hotelfromhomme.uk')\n",
      "(53, '[Exemple] Martin Gaio', 'martin.gaio@olaaa.es')\n",
      "(54, '[Exemple] Amo Pargadella', 'amo.pargadella@pargadella-cars.it')\n"
     ]
    }
   ],
   "source": [
    "# Établir une connexion à la base de données PostgreSQL\n",
    "conn = psycopg2.connect(\n",
    "    host=\"localhost\",\n",
    "    port=\"5432\",\n",
    "    database=\"techtest\",\n",
    "    user=\"postgres\",\n",
    "    password=\"sudo\"\n",
    ")\n",
    "cur = conn.cursor()\n",
    "query = \"SELECT * FROM contacts\"\n",
    "cur.execute(query)\n",
    "\n",
    "res = cur.fetchall()\n",
    "\n",
    "for row in res:\n",
    "    print(row)\n",
    "\n",
    "# Fermer la connexion à la base de données\n",
    "conn.close()"
   ]
  },
  {
   "cell_type": "markdown",
   "id": "e7202a13-1686-4028-9504-071e2183ba3d",
   "metadata": {
    "tags": []
   },
   "source": [
    "# 4. Visualisation DATA: <a class=\"anchor\" id=\"4\"></a>"
   ]
  },
  {
   "cell_type": "code",
   "execution_count": 29,
   "id": "fff0968a-9e42-482c-a22b-7311c17840bb",
   "metadata": {},
   "outputs": [
    {
     "name": "stdout",
     "output_type": "stream",
     "text": [
      "<class 'pandas.core.frame.DataFrame'>\n",
      "RangeIndex: 18 entries, 0 to 17\n",
      "Data columns (total 9 columns):\n",
      " #   Column                                    Non-Null Count  Dtype  \n",
      "---  ------                                    --------------  -----  \n",
      " 0   Personne - Nom                            18 non-null     object \n",
      " 1   Personne - Étiquette                      0 non-null      float64\n",
      " 2   Personne - Organisation                   11 non-null     object \n",
      " 3   Personne - E-mail                         18 non-null     object \n",
      " 4   Personne - Téléphone                      17 non-null     object \n",
      " 5   Personne - Affaires clôturées             18 non-null     int64  \n",
      " 6   Personne - Affaires en cours              18 non-null     int64  \n",
      " 7   Personne - Date de la prochaine activité  8 non-null      object \n",
      " 8   Personne - Propriétaire                   18 non-null     object \n",
      "dtypes: float64(1), int64(2), object(6)\n",
      "memory usage: 1.4+ KB\n"
     ]
    }
   ],
   "source": [
    "# Charger les données depuis le fichier CSV\n",
    "df = pd.read_csv('people-18007722-2.csv')\n",
    "df.info()"
   ]
  },
  {
   "cell_type": "markdown",
   "id": "b5d34152-f30c-486d-aa04-27db0ca6d20a",
   "metadata": {},
   "source": [
    "## - Afficher les 5 premières observations"
   ]
  },
  {
   "cell_type": "code",
   "execution_count": 30,
   "id": "fd34fc15-17bf-4b84-8cff-6117b1851afa",
   "metadata": {},
   "outputs": [
    {
     "data": {
      "text/html": [
       "<div>\n",
       "<style scoped>\n",
       "    .dataframe tbody tr th:only-of-type {\n",
       "        vertical-align: middle;\n",
       "    }\n",
       "\n",
       "    .dataframe tbody tr th {\n",
       "        vertical-align: top;\n",
       "    }\n",
       "\n",
       "    .dataframe thead th {\n",
       "        text-align: right;\n",
       "    }\n",
       "</style>\n",
       "<table border=\"1\" class=\"dataframe\">\n",
       "  <thead>\n",
       "    <tr style=\"text-align: right;\">\n",
       "      <th></th>\n",
       "      <th>Personne - Nom</th>\n",
       "      <th>Personne - Étiquette</th>\n",
       "      <th>Personne - Organisation</th>\n",
       "      <th>Personne - E-mail</th>\n",
       "      <th>Personne - Téléphone</th>\n",
       "      <th>Personne - Affaires clôturées</th>\n",
       "      <th>Personne - Affaires en cours</th>\n",
       "      <th>Personne - Date de la prochaine activité</th>\n",
       "      <th>Personne - Propriétaire</th>\n",
       "    </tr>\n",
       "  </thead>\n",
       "  <tbody>\n",
       "    <tr>\n",
       "      <th>0</th>\n",
       "      <td>[Exemple] Gloria Quinn</td>\n",
       "      <td>NaN</td>\n",
       "      <td>[Exemple] EmpowerMove</td>\n",
       "      <td>gloria.quinn@empowermmove.com</td>\n",
       "      <td>862-252-9773</td>\n",
       "      <td>0</td>\n",
       "      <td>1</td>\n",
       "      <td>2023-07-31</td>\n",
       "      <td>M</td>\n",
       "    </tr>\n",
       "    <tr>\n",
       "      <th>1</th>\n",
       "      <td>[Exemple] Phyllis Yang</td>\n",
       "      <td>NaN</td>\n",
       "      <td>[Exemple] Phyllis &amp; Cie</td>\n",
       "      <td>phyllis.yang@gmial.com</td>\n",
       "      <td>240-707-3884</td>\n",
       "      <td>0</td>\n",
       "      <td>1</td>\n",
       "      <td>2023-08-06</td>\n",
       "      <td>M</td>\n",
       "    </tr>\n",
       "    <tr>\n",
       "      <th>2</th>\n",
       "      <td>[Exemple] Otto Miller</td>\n",
       "      <td>NaN</td>\n",
       "      <td>[Exemple] iTable</td>\n",
       "      <td>otto.miller@itablee.eu</td>\n",
       "      <td>601-906-7534</td>\n",
       "      <td>0</td>\n",
       "      <td>1</td>\n",
       "      <td>2023-08-03</td>\n",
       "      <td>M</td>\n",
       "    </tr>\n",
       "    <tr>\n",
       "      <th>3</th>\n",
       "      <td>[Exemple] Gianluigi Ferraro</td>\n",
       "      <td>NaN</td>\n",
       "      <td>[Exemple] Ferraro</td>\n",
       "      <td>gianluigi@ferraroo.it</td>\n",
       "      <td>098-876-2356</td>\n",
       "      <td>1</td>\n",
       "      <td>0</td>\n",
       "      <td>NaN</td>\n",
       "      <td>M</td>\n",
       "    </tr>\n",
       "    <tr>\n",
       "      <th>4</th>\n",
       "      <td>[Exemple] Tony Turner</td>\n",
       "      <td>NaN</td>\n",
       "      <td>[Exemple] MoveEr</td>\n",
       "      <td>tony.turner@moveer.com</td>\n",
       "      <td>218-348-8528</td>\n",
       "      <td>0</td>\n",
       "      <td>1</td>\n",
       "      <td>2023-08-02</td>\n",
       "      <td>M</td>\n",
       "    </tr>\n",
       "  </tbody>\n",
       "</table>\n",
       "</div>"
      ],
      "text/plain": [
       "                Personne - Nom  Personne - Étiquette  Personne - Organisation  \\\n",
       "0       [Exemple] Gloria Quinn                   NaN    [Exemple] EmpowerMove   \n",
       "1       [Exemple] Phyllis Yang                   NaN  [Exemple] Phyllis & Cie   \n",
       "2        [Exemple] Otto Miller                   NaN         [Exemple] iTable   \n",
       "3  [Exemple] Gianluigi Ferraro                   NaN        [Exemple] Ferraro   \n",
       "4        [Exemple] Tony Turner                   NaN         [Exemple] MoveEr   \n",
       "\n",
       "               Personne - E-mail Personne - Téléphone  \\\n",
       "0  gloria.quinn@empowermmove.com         862-252-9773   \n",
       "1         phyllis.yang@gmial.com         240-707-3884   \n",
       "2         otto.miller@itablee.eu         601-906-7534   \n",
       "3          gianluigi@ferraroo.it         098-876-2356   \n",
       "4         tony.turner@moveer.com         218-348-8528   \n",
       "\n",
       "   Personne - Affaires clôturées  Personne - Affaires en cours  \\\n",
       "0                              0                             1   \n",
       "1                              0                             1   \n",
       "2                              0                             1   \n",
       "3                              1                             0   \n",
       "4                              0                             1   \n",
       "\n",
       "  Personne - Date de la prochaine activité Personne - Propriétaire  \n",
       "0                               2023-07-31                       M  \n",
       "1                               2023-08-06                       M  \n",
       "2                               2023-08-03                       M  \n",
       "3                                      NaN                       M  \n",
       "4                               2023-08-02                       M  "
      ]
     },
     "execution_count": 30,
     "metadata": {},
     "output_type": "execute_result"
    }
   ],
   "source": [
    "df.head()"
   ]
  },
  {
   "cell_type": "code",
   "execution_count": 31,
   "id": "92465114-6f4e-473e-b23f-151c7f6f61d5",
   "metadata": {},
   "outputs": [
    {
     "data": {
      "text/plain": [
       "array([[<Axes: title={'center': 'Personne - Étiquette'}>,\n",
       "        <Axes: title={'center': 'Personne - Affaires clôturées'}>],\n",
       "       [<Axes: title={'center': 'Personne - Affaires en cours'}>,\n",
       "        <Axes: >]], dtype=object)"
      ]
     },
     "execution_count": 31,
     "metadata": {},
     "output_type": "execute_result"
    },
    {
     "data": {
      "image/png": "[encoded data removed]",
      "text/plain": [
       "<Figure size 640x480 with 4 Axes>"
      ]
     },
     "metadata": {},
     "output_type": "display_data"
    }
   ],
   "source": [
    "df.hist()"
   ]
  },
  {
   "cell_type": "code",
   "execution_count": 35,
   "id": "29f4e5a4-39e4-4200-9b4c-2e175c3f733d",
   "metadata": {},
   "outputs": [
    {
     "data": {
      "image/png": "[encoded data removed]",
      "text/plain": [
       "<Figure size 640x480 with 1 Axes>"
      ]
     },
     "metadata": {},
     "output_type": "display_data"
    }
   ],
   "source": [
    "# Convertir la colonne de date en format de date\n",
    "df['Personne - Date de la prochaine activité'] = pd.to_datetime(df['Personne - Date de la prochaine activité'])\n",
    "\n",
    "# Regrouper les transactions par jour et compter le nombre de transactions par jour\n",
    "transactions_par_jour = df.groupby(df['Personne - Date de la prochaine activité'].dt.date).size()\n",
    "\n",
    "# Créer le graphique\n",
    "plt.plot(transactions_par_jour.index, transactions_par_jour.values)\n",
    "plt.xlabel('Jour')\n",
    "plt.ylabel('Nombre de transactions')\n",
    "plt.title('Transactions de clients par jour')\n",
    "plt.xticks(rotation=45)\n",
    "plt.show()"
   ]
  }
 ],
 "metadata": {
  "kernelspec": {
   "display_name": "Python 3 (ipykernel)",
   "language": "python",
   "name": "python3"
  },
  "language_info": {
   "codemirror_mode": {
    "name": "ipython",
    "version": 3
   },
   "file_extension": ".py",
   "mimetype": "text/x-python",
   "name": "python",
   "nbconvert_exporter": "python",
   "pygments_lexer": "ipython3",
   "version": "3.11.4"
  }
 },
 "nbformat": 4,
 "nbformat_minor": 5
}
